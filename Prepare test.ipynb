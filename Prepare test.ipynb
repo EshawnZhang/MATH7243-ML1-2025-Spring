{
 "cells": [
  {
   "cell_type": "markdown",
   "id": "9a49f829-22ef-4a6f-87fb-64934b5af1c8",
   "metadata": {},
   "source": [
    "import os\n",
    "import numpy as np\n",
    "import matplotlib.pyplot as plt\n",
    "from PIL import Image\n",
    "\n",
    "base_dir = r\"C:\\Users\\zhang\\Desktop\\Final Project\\renders\\subdural\"\n",
    "\n",
    "# 这四个文件夹对应同一个ID下的四种不同渲染\n",
    "window_types = [\n",
    "    \"brain_bone_window\",\n",
    "    \"brain_window\",\n",
    "    \"max_contrast_window\",\n",
    "    \"subdural_window\"\n",
    "]\n",
    "\n",
    "# 这里假设你的图像ID文件名为 \"ID_00a4abdde.jpg\"\n",
    "image_id = \"ID_00a4abdde.jpg\"\n",
    "\n",
    "def load_multi_window_image(img_id, base_dir, window_folders):\n",
    "    \"\"\"\n",
    "    读取同一个图像ID在不同窗宽/窗位子文件夹下的图片，并将它们合并为一个多通道numpy数组\n",
    "    \"\"\"\n",
    "    channel_list = []\n",
    "    \n",
    "    for folder in window_folders:\n",
    "        img_path = os.path.join(base_dir, folder, img_id)\n",
    "        \n",
    "        # 读取为PIL图像\n",
    "        # 如果图片本身是彩色、但你只想要灰度，则可加 .convert('L')\n",
    "        with Image.open(img_path).convert('L') as pil_img:\n",
    "            # 转换成numpy\n",
    "            arr = np.array(pil_img, dtype=np.float32)\n",
    "            channel_list.append(arr)\n",
    "    \n",
    "    # 在最后一个维度stack，形成 shape = (H, W, 通道数)\n",
    "    multi_channel_img = np.stack(channel_list, axis=-1)\n",
    "    return multi_channel_img\n",
    "\n",
    "# 加载同一个ID的多渲染图像\n",
    "multi_window_img = load_multi_window_image(\n",
    "    image_id, \n",
    "    base_dir=base_dir, \n",
    "    window_folders=window_types\n",
    ")\n",
    "\n",
    "print(\"合并后的图像shape:\", multi_window_img.shape)\n",
    "\n",
    "# 如果想简单查看不同通道，可以分别可视化\n",
    "fig, axs = plt.subplots(1, 4, figsize=(12, 3))\n",
    "titles = window_types\n",
    "\n",
    "for i in range(4):\n",
    "    axs[i].imshow(multi_window_img[..., i], cmap='gray')\n",
    "    axs[i].set_title(titles[i])\n",
    "    axs[i].axis('off')\n",
    "    \n",
    "plt.tight_layout()\n",
    "plt.show()"
   ]
  },
  {
   "cell_type": "code",
   "execution_count": 17,
   "id": "84b32c3e-0ef5-4483-8750-fccd3d55d5bb",
   "metadata": {},
   "outputs": [],
   "source": [
    "import os\n",
    "import glob\n",
    "import numpy as np\n",
    "from PIL import Image\n",
    "\n",
    "import torch\n",
    "import torch.nn as nn\n",
    "import torch.optim as optim\n",
    "from torch.utils.data import Dataset, DataLoader, random_split\n",
    "import torchvision.transforms as T\n",
    "\n",
    "from tqdm.notebook import tqdm\n",
    "import matplotlib.pyplot as plt\n"
   ]
  },
  {
   "cell_type": "code",
   "execution_count": 29,
   "id": "99951ac0-d32f-4d16-be86-39f0616eb392",
   "metadata": {},
   "outputs": [],
   "source": [
    "class NormalEpiduralDataset(Dataset):\n",
    "    \"\"\"\n",
    "    同时加载 normal=0 和 epidural=1, 并且只选择其中一半样本。\n",
    "    要求目录结构:\n",
    "    root_dir\n",
    "      ├── normal\n",
    "      │    ├── brain_bone_window\n",
    "      │    ├── brain_window\n",
    "      │    ├── max_contrast_window\n",
    "      │    └── subdural_window\n",
    "      └── epidural\n",
    "           ├── brain_bone_window\n",
    "           ├── brain_window\n",
    "           ├── max_contrast_window\n",
    "           └── subdural_window\n",
    "    \"\"\"\n",
    "    def __init__(self, root_dir, transform=None):\n",
    "        super().__init__()\n",
    "        self.root_dir = root_dir\n",
    "        self.transform = transform\n",
    "        \n",
    "        # 类别映射: normal->0, epidural->1\n",
    "        self.category_map = {\n",
    "            \"normal\": 0,\n",
    "            \"epidural\": 1\n",
    "        }\n",
    "        \n",
    "        # 我们要的4种窗调子文件夹\n",
    "        self.window_types = [\n",
    "            \"brain_bone_window\",\n",
    "            \"brain_window\",\n",
    "            \"max_contrast_window\",\n",
    "            \"subdural_window\"\n",
    "        ]\n",
    "        \n",
    "        self.samples = []  # 存 (image_id, cat_name)\n",
    "        \n",
    "        for cat_name, cat_label in self.category_map.items():\n",
    "            cat_dir = os.path.join(self.root_dir, cat_name)\n",
    "            \n",
    "            # 在 cat_dir/brain_bone_window 下搜 *.jpg (也可改 *.png)\n",
    "            example_win_path = os.path.join(cat_dir, self.window_types[0])\n",
    "            file_paths = glob.glob(os.path.join(example_win_path, \"*.jpg\"))\n",
    "            \n",
    "            all_ids = []\n",
    "            for p in file_paths:\n",
    "                image_id = os.path.basename(p)  # e.g. ID_03c5639a2.jpg\n",
    "                \n",
    "                # 确认该image_id在剩余3个子文件夹都有对应文件\n",
    "                if self._check_all_windows_exist(cat_dir, image_id):\n",
    "                    all_ids.append(image_id)\n",
    "            \n",
    "            # 打乱并只取一半\n",
    "            random.shuffle(all_ids)\n",
    "            half_len = len(all_ids) // 2  # 向下取整\n",
    "            picked_ids = all_ids[:half_len]\n",
    "            \n",
    "            # 加入最终样本列表\n",
    "            for iid in picked_ids:\n",
    "                self.samples.append((iid, cat_name))\n",
    "        \n",
    "        print(f\"Loaded categories: {self.category_map}\")\n",
    "        print(f\"Total final samples (both classes) = {len(self.samples)}\")\n",
    "\n",
    "    def _check_all_windows_exist(self, cat_dir, image_id):\n",
    "        \"\"\"检查在 cat_dir 下的4个子文件夹都存在 image_id 文件。\"\"\"\n",
    "        for w in self.window_types:\n",
    "            img_path = os.path.join(cat_dir, w, image_id)\n",
    "            if not os.path.exists(img_path):\n",
    "                return False\n",
    "        return True\n",
    "\n",
    "    def __len__(self):\n",
    "        return len(self.samples)\n",
    "    \n",
    "    def __getitem__(self, idx):\n",
    "        image_id, cat_name = self.samples[idx]\n",
    "        label = self.category_map[cat_name]\n",
    "        \n",
    "        # 读取4通道\n",
    "        # 如果想真正保留4通道 -> 不做convert('RGB') -> 而是convert('L')再stack\n",
    "        channels = []\n",
    "        cat_dir = os.path.join(self.root_dir, cat_name)\n",
    "        \n",
    "        for w in self.window_types:\n",
    "            img_path = os.path.join(cat_dir, w, image_id)\n",
    "            # 此处以单通道为例\n",
    "            with Image.open(img_path).convert('L') as pil_img:\n",
    "                arr = np.array(pil_img, dtype=np.float32)\n",
    "                channels.append(arr)\n",
    "        \n",
    "        # 拼成 (4,H,W)\n",
    "        img_4ch = np.stack(channels, axis=0)\n",
    "        \n",
    "        # 下面是一个演示: 把(4,H,W)->(H,W,4)->PIL, 再用默认transforms(只能处理RGB)\n",
    "        # 如果你想纯4通道卷积，就需要自行写 transforms\n",
    "        img_4ch_hw_c = img_4ch.transpose((1,2,0))  # (H,W,4)\n",
    "        \n",
    "        # 先把它clip到0~255并转uint8 (简化演示)\n",
    "        img_4ch_hw_c = np.clip(img_4ch_hw_c, 0, 255).astype(np.uint8)\n",
    "        \n",
    "        # PIL 无法直接处理4通道时默认当成 RGBA, 这里做简单示范:\n",
    "        # 强行convert('RGB')会丢掉一个通道信息\n",
    "        pil_multi = Image.fromarray(img_4ch_hw_c, mode='RGBA').convert('RGB')\n",
    "        \n",
    "        if self.transform:\n",
    "            img_tensor = self.transform(pil_multi)  # => shape=[3,H,W]\n",
    "        else:\n",
    "            # 如果没有transform, 手动转ToTensor\n",
    "            img_tensor = T.functional.to_tensor(pil_multi)  # => [3,H,W]\n",
    "        \n",
    "        return img_tensor, torch.tensor(label, dtype=torch.long)\n"
   ]
  },
  {
   "cell_type": "code",
   "execution_count": 30,
   "id": "143b9daa-222b-4527-865b-e9465547b8fe",
   "metadata": {},
   "outputs": [
    {
     "name": "stdout",
     "output_type": "stream",
     "text": [
      "Loaded categories: {'normal': 0, 'epidural': 1}\n",
      "Total final samples (both classes) = 3887\n",
      "Dataset size after picking half from each category: 3887\n"
     ]
    }
   ],
   "source": [
    "root_dir = r\"C:\\Users\\zhang\\Desktop\\Final Project\\renders\"\n",
    "\n",
    "# 一个简单transform：缩放->张量\n",
    "data_transform = T.Compose([\n",
    "    T.Resize((224,224)),\n",
    "    T.ToTensor(),\n",
    "])\n",
    "\n",
    "dataset = NormalEpiduralDataset(root_dir, transform=data_transform)\n",
    "print(\"Dataset size after picking half from each category:\", len(dataset))\n",
    "\n",
    "# 划分训练/测试 (示例8:2)\n",
    "train_size = int(0.8 * len(dataset))\n",
    "test_size = len(dataset) - train_size\n",
    "train_dataset, test_dataset = random_split(dataset, [train_size, test_size])\n",
    "\n",
    "train_loader = DataLoader(train_dataset, batch_size=16, shuffle=True)\n",
    "test_loader = DataLoader(test_dataset, batch_size=16, shuffle=False)"
   ]
  },
  {
   "cell_type": "code",
   "execution_count": 32,
   "id": "dbc0de60-54c6-4976-a419-36d4ca5e324c",
   "metadata": {},
   "outputs": [
    {
     "name": "stdout",
     "output_type": "stream",
     "text": [
      "Sample shape: torch.Size([3, 224, 224]) Label: 0\n"
     ]
    }
   ],
   "source": [
    "sample_img, sample_label = dataset[0]\n",
    "print(\"Sample shape:\", sample_img.shape, \"Label:\", sample_label.item())"
   ]
  },
  {
   "cell_type": "code",
   "execution_count": 33,
   "id": "4902d3b0-5e78-4528-8baf-69e6d3c81a78",
   "metadata": {},
   "outputs": [],
   "source": [
    "class SimpleCNN(nn.Module):\n",
    "    def __init__(self, in_channels=3, num_classes=2):\n",
    "        super().__init__()\n",
    "        self.conv1 = nn.Conv2d(in_channels, 16, kernel_size=3, padding=1)\n",
    "        self.pool = nn.MaxPool2d(2,2)\n",
    "        self.conv2 = nn.Conv2d(16, 32, kernel_size=3, padding=1)\n",
    "        self.fc1 = nn.Linear(32*56*56, 64)\n",
    "        self.fc2 = nn.Linear(64, num_classes)\n",
    "        \n",
    "    def forward(self, x):\n",
    "        x = self.pool(torch.relu(self.conv1(x)))  # (B,16,112,112)\n",
    "        x = self.pool(torch.relu(self.conv2(x)))  # (B,32,56,56)\n",
    "        x = x.view(x.size(0), -1)                 # flatten\n",
    "        x = torch.relu(self.fc1(x))\n",
    "        x = self.fc2(x)\n",
    "        return x\n",
    "\n",
    "device = torch.device(\"cuda\" if torch.cuda.is_available() else \"cpu\")\n",
    "model = SimpleCNN(in_channels=3, num_classes=2).to(device)\n",
    "\n",
    "criterion = nn.CrossEntropyLoss()\n",
    "optimizer = optim.Adam(model.parameters(), lr=1e-4)\n",
    "num_epochs = 3"
   ]
  },
  {
   "cell_type": "code",
   "execution_count": 27,
   "id": "d80f7b2f-2762-428f-97bb-33cddb0c61d8",
   "metadata": {},
   "outputs": [],
   "source": []
  },
  {
   "cell_type": "code",
   "execution_count": 34,
   "id": "f3a28674-7f38-407f-8636-35c1d57d7b1d",
   "metadata": {},
   "outputs": [
    {
     "data": {
      "application/vnd.jupyter.widget-view+json": {
       "model_id": "1d5104de2d144f82a2213fcdec91e06d",
       "version_major": 2,
       "version_minor": 0
      },
      "text/plain": [
       "Epoch 1/3:   0%|          | 0/195 [00:00<?, ?batch/s]"
      ]
     },
     "metadata": {},
     "output_type": "display_data"
    },
    {
     "name": "stdout",
     "output_type": "stream",
     "text": [
      "End of Epoch 1 - Train Loss: 0.4601, Train Acc: 0.7822\n",
      "           Test Acc: 0.7738\n",
      "\n"
     ]
    },
    {
     "data": {
      "application/vnd.jupyter.widget-view+json": {
       "model_id": "993a149cf9d74f7581675e1a13e0b908",
       "version_major": 2,
       "version_minor": 0
      },
      "text/plain": [
       "Epoch 2/3:   0%|          | 0/195 [00:00<?, ?batch/s]"
      ]
     },
     "metadata": {},
     "output_type": "display_data"
    },
    {
     "name": "stdout",
     "output_type": "stream",
     "text": [
      "End of Epoch 2 - Train Loss: 0.3987, Train Acc: 0.8115\n",
      "           Test Acc: 0.8021\n",
      "\n"
     ]
    },
    {
     "data": {
      "application/vnd.jupyter.widget-view+json": {
       "model_id": "c70ab8e99ab6468dbed2318f1a9c2a12",
       "version_major": 2,
       "version_minor": 0
      },
      "text/plain": [
       "Epoch 3/3:   0%|          | 0/195 [00:00<?, ?batch/s]"
      ]
     },
     "metadata": {},
     "output_type": "display_data"
    },
    {
     "name": "stdout",
     "output_type": "stream",
     "text": [
      "End of Epoch 3 - Train Loss: 0.3629, Train Acc: 0.8305\n",
      "           Test Acc: 0.7609\n",
      "\n"
     ]
    }
   ],
   "source": [
    "for epoch in range(num_epochs):\n",
    "    model.train()\n",
    "    running_loss = 0.0\n",
    "    correct, total = 0, 0\n",
    "    \n",
    "    pbar = tqdm(train_loader, desc=f\"Epoch {epoch+1}/{num_epochs}\", unit=\"batch\")\n",
    "    \n",
    "    for batch_idx, (imgs, labels) in enumerate(pbar):\n",
    "        imgs, labels = imgs.to(device), labels.to(device)\n",
    "        \n",
    "        optimizer.zero_grad()\n",
    "        outputs = model(imgs)\n",
    "        loss = criterion(outputs, labels)\n",
    "        loss.backward()\n",
    "        optimizer.step()\n",
    "        \n",
    "        running_loss += loss.item() * imgs.size(0)\n",
    "        \n",
    "        _, predicted = torch.max(outputs, 1)\n",
    "        correct += (predicted == labels).sum().item()\n",
    "        total += labels.size(0)\n",
    "        \n",
    "        current_loss = loss.item()\n",
    "        current_acc = correct / total\n",
    "        pbar.set_postfix({\"loss\": f\"{current_loss:.4f}\", \"acc\": f\"{current_acc:.4f}\"})\n",
    "    \n",
    "    epoch_loss = running_loss / total\n",
    "    epoch_acc = correct / total\n",
    "    print(f\"End of Epoch {epoch+1} - Train Loss: {epoch_loss:.4f}, Train Acc: {epoch_acc:.4f}\")\n",
    "    \n",
    "    # 测试集评估\n",
    "    model.eval()\n",
    "    correct_test, total_test = 0, 0\n",
    "    with torch.no_grad():\n",
    "        for imgs_test, labels_test in test_loader:\n",
    "            imgs_test, labels_test = imgs_test.to(device), labels_test.to(device)\n",
    "            outputs_test = model(imgs_test)\n",
    "            _, predicted_test = torch.max(outputs_test, 1)\n",
    "            correct_test += (predicted_test == labels_test).sum().item()\n",
    "            total_test += labels_test.size(0)\n",
    "    \n",
    "    test_acc = correct_test / total_test if total_test > 0 else 0\n",
    "    print(f\"           Test Acc: {test_acc:.4f}\\n\")"
   ]
  },
  {
   "cell_type": "code",
   "execution_count": 35,
   "id": "975a6fef-c033-489f-8f8d-eccc24a43a64",
   "metadata": {},
   "outputs": [],
   "source": [
    "import os\n",
    "import glob\n",
    "import numpy as np\n",
    "from PIL import Image\n",
    "from tqdm.notebook import tqdm\n",
    "import matplotlib.pyplot as plt"
   ]
  },
  {
   "cell_type": "code",
   "execution_count": 36,
   "id": "68ba9ea9-92ba-4556-8ecc-77b7f0801c80",
   "metadata": {},
   "outputs": [
    {
     "data": {
      "application/vnd.jupyter.widget-view+json": {
       "model_id": "a3133aaaf10e429fb5087123b89b8c37",
       "version_major": 2,
       "version_minor": 0
      },
      "text/plain": [
       "Epoch 1/10:   0%|          | 0/195 [00:00<?, ?batch/s]"
      ]
     },
     "metadata": {},
     "output_type": "display_data"
    },
    {
     "name": "stdout",
     "output_type": "stream",
     "text": [
      "\n",
      "Epoch 1/10 - Train Loss: 0.3383, Train Acc: 0.8501\n",
      "               Test Loss: 0.3668, Test Acc: 0.8393\n",
      "\n"
     ]
    },
    {
     "data": {
      "application/vnd.jupyter.widget-view+json": {
       "model_id": "ac7ccffd72c2428baa3493f570d7ad63",
       "version_major": 2,
       "version_minor": 0
      },
      "text/plain": [
       "Epoch 2/10:   0%|          | 0/195 [00:00<?, ?batch/s]"
      ]
     },
     "metadata": {},
     "output_type": "display_data"
    },
    {
     "name": "stdout",
     "output_type": "stream",
     "text": [
      "\n",
      "Epoch 2/10 - Train Loss: 0.2980, Train Acc: 0.8717\n",
      "               Test Loss: 0.3575, Test Acc: 0.8355\n",
      "\n"
     ]
    },
    {
     "data": {
      "application/vnd.jupyter.widget-view+json": {
       "model_id": "912fc2e5f0e8476b843b091963e0e25c",
       "version_major": 2,
       "version_minor": 0
      },
      "text/plain": [
       "Epoch 3/10:   0%|          | 0/195 [00:00<?, ?batch/s]"
      ]
     },
     "metadata": {},
     "output_type": "display_data"
    },
    {
     "name": "stdout",
     "output_type": "stream",
     "text": [
      "\n",
      "Epoch 3/10 - Train Loss: 0.2684, Train Acc: 0.8871\n",
      "               Test Loss: 0.3592, Test Acc: 0.8303\n",
      "\n"
     ]
    },
    {
     "data": {
      "application/vnd.jupyter.widget-view+json": {
       "model_id": "efb73127d28a45c0b83ec98a7cf6e379",
       "version_major": 2,
       "version_minor": 0
      },
      "text/plain": [
       "Epoch 4/10:   0%|          | 0/195 [00:00<?, ?batch/s]"
      ]
     },
     "metadata": {},
     "output_type": "display_data"
    },
    {
     "name": "stdout",
     "output_type": "stream",
     "text": [
      "\n",
      "Epoch 4/10 - Train Loss: 0.2516, Train Acc: 0.8968\n",
      "               Test Loss: 0.3297, Test Acc: 0.8458\n",
      "\n"
     ]
    },
    {
     "data": {
      "application/vnd.jupyter.widget-view+json": {
       "model_id": "ecab72104f9c4281960ad28f9df1313b",
       "version_major": 2,
       "version_minor": 0
      },
      "text/plain": [
       "Epoch 5/10:   0%|          | 0/195 [00:00<?, ?batch/s]"
      ]
     },
     "metadata": {},
     "output_type": "display_data"
    },
    {
     "name": "stdout",
     "output_type": "stream",
     "text": [
      "\n",
      "Epoch 5/10 - Train Loss: 0.2299, Train Acc: 0.9045\n",
      "               Test Loss: 0.3310, Test Acc: 0.8393\n",
      "\n"
     ]
    },
    {
     "data": {
      "application/vnd.jupyter.widget-view+json": {
       "model_id": "0fda02bd1bcb4d2cb805754aa14dcdb9",
       "version_major": 2,
       "version_minor": 0
      },
      "text/plain": [
       "Epoch 6/10:   0%|          | 0/195 [00:00<?, ?batch/s]"
      ]
     },
     "metadata": {},
     "output_type": "display_data"
    },
    {
     "name": "stdout",
     "output_type": "stream",
     "text": [
      "\n",
      "Epoch 6/10 - Train Loss: 0.1886, Train Acc: 0.9260\n",
      "               Test Loss: 0.3451, Test Acc: 0.8355\n",
      "\n"
     ]
    },
    {
     "data": {
      "application/vnd.jupyter.widget-view+json": {
       "model_id": "f2c23c59d43d4c18b9e3b294e6ab2c29",
       "version_major": 2,
       "version_minor": 0
      },
      "text/plain": [
       "Epoch 7/10:   0%|          | 0/195 [00:00<?, ?batch/s]"
      ]
     },
     "metadata": {},
     "output_type": "display_data"
    },
    {
     "name": "stdout",
     "output_type": "stream",
     "text": [
      "\n",
      "Epoch 7/10 - Train Loss: 0.1709, Train Acc: 0.9350\n",
      "               Test Loss: 0.3543, Test Acc: 0.8265\n",
      "\n"
     ]
    },
    {
     "data": {
      "application/vnd.jupyter.widget-view+json": {
       "model_id": "bf93775f50e84e88a74b1fff6654eb22",
       "version_major": 2,
       "version_minor": 0
      },
      "text/plain": [
       "Epoch 8/10:   0%|          | 0/195 [00:00<?, ?batch/s]"
      ]
     },
     "metadata": {},
     "output_type": "display_data"
    },
    {
     "name": "stdout",
     "output_type": "stream",
     "text": [
      "\n",
      "Epoch 8/10 - Train Loss: 0.1509, Train Acc: 0.9482\n",
      "               Test Loss: 0.3187, Test Acc: 0.8715\n",
      "\n"
     ]
    },
    {
     "data": {
      "application/vnd.jupyter.widget-view+json": {
       "model_id": "63d1e04d52b14e82b3d5b68fca226272",
       "version_major": 2,
       "version_minor": 0
      },
      "text/plain": [
       "Epoch 9/10:   0%|          | 0/195 [00:00<?, ?batch/s]"
      ]
     },
     "metadata": {},
     "output_type": "display_data"
    },
    {
     "name": "stdout",
     "output_type": "stream",
     "text": [
      "\n",
      "Epoch 9/10 - Train Loss: 0.1304, Train Acc: 0.9527\n",
      "               Test Loss: 0.3907, Test Acc: 0.8419\n",
      "\n"
     ]
    },
    {
     "data": {
      "application/vnd.jupyter.widget-view+json": {
       "model_id": "81817cad9b1244b08b40542dc5287a75",
       "version_major": 2,
       "version_minor": 0
      },
      "text/plain": [
       "Epoch 10/10:   0%|          | 0/195 [00:00<?, ?batch/s]"
      ]
     },
     "metadata": {},
     "output_type": "display_data"
    },
    {
     "name": "stdout",
     "output_type": "stream",
     "text": [
      "\n",
      "Epoch 10/10 - Train Loss: 0.1103, Train Acc: 0.9672\n",
      "               Test Loss: 0.3386, Test Acc: 0.8535\n",
      "\n"
     ]
    },
    {
     "data": {
      "image/png": "[encoded data removed]",
      "text/plain": [
       "<Figure size 1200x500 with 2 Axes>"
      ]
     },
     "metadata": {},
     "output_type": "display_data"
    }
   ],
   "source": [
    "num_epochs = 10  # 你要训练多少轮\n",
    "\n",
    "# 记录每个 epoch 的指标，用于画图\n",
    "train_losses = []\n",
    "train_accuracies = []\n",
    "test_losses = []\n",
    "test_accuracies = []\n",
    "\n",
    "for epoch in range(num_epochs):\n",
    "    # ========== 训练阶段 ==========\n",
    "    model.train()\n",
    "    running_loss = 0.0\n",
    "    correct, total = 0, 0\n",
    "\n",
    "    pbar = tqdm(train_loader, desc=f\"Epoch {epoch+1}/{num_epochs}\", unit=\"batch\")\n",
    "    \n",
    "    for batch_idx, (imgs, labels) in enumerate(pbar):\n",
    "        imgs, labels = imgs.to(device), labels.to(device)\n",
    "\n",
    "        optimizer.zero_grad()\n",
    "        outputs = model(imgs)\n",
    "        loss = criterion(outputs, labels)\n",
    "        loss.backward()\n",
    "        optimizer.step()\n",
    "\n",
    "        running_loss += loss.item() * imgs.size(0)\n",
    "\n",
    "        _, predicted = torch.max(outputs, 1)\n",
    "        correct += (predicted == labels).sum().item()\n",
    "        total += labels.size(0)\n",
    "\n",
    "        current_loss = loss.item()\n",
    "        current_acc = correct / total\n",
    "        # 在进度条上显示当前batch的Loss和Acc\n",
    "        pbar.set_postfix({\"loss\": f\"{current_loss:.4f}\", \"acc\": f\"{current_acc:.4f}\"})\n",
    "    \n",
    "    # 计算该 epoch 的平均训练损失与准确率\n",
    "    epoch_loss = running_loss / total\n",
    "    epoch_acc = correct / total\n",
    "    train_losses.append(epoch_loss)\n",
    "    train_accuracies.append(epoch_acc)\n",
    "\n",
    "    # 打印本 epoch 训练结果\n",
    "    print(f\"\\nEpoch {epoch+1}/{num_epochs} - Train Loss: {epoch_loss:.4f}, Train Acc: {epoch_acc:.4f}\")\n",
    "\n",
    "    # ========== 测试阶段 ==========\n",
    "    model.eval()\n",
    "    test_running_loss = 0.0\n",
    "    correct_test, total_test = 0, 0\n",
    "\n",
    "    with torch.no_grad():\n",
    "        for imgs_test, labels_test in test_loader:\n",
    "            imgs_test = imgs_test.to(device)\n",
    "            labels_test = labels_test.to(device)\n",
    "            outputs_test = model(imgs_test)\n",
    "            loss_test = criterion(outputs_test, labels_test)\n",
    "\n",
    "            test_running_loss += loss_test.item() * imgs_test.size(0)\n",
    "\n",
    "            _, predicted_test = torch.max(outputs_test, 1)\n",
    "            correct_test += (predicted_test == labels_test).sum().item()\n",
    "            total_test += labels_test.size(0)\n",
    "\n",
    "    # 计算测试集平均损失、准确率\n",
    "    test_epoch_loss = test_running_loss / total_test if total_test > 0 else 0\n",
    "    test_epoch_acc = correct_test / total_test if total_test > 0 else 0\n",
    "    test_losses.append(test_epoch_loss)\n",
    "    test_accuracies.append(test_epoch_acc)\n",
    "\n",
    "    # 打印本 epoch 测试结果\n",
    "    print(f\"               Test Loss: {test_epoch_loss:.4f}, Test Acc: {test_epoch_acc:.4f}\\n\")\n",
    "\n",
    "\n",
    "# ========== 3. 训练完成后画图 ==========\n",
    "epochs_range = range(1, num_epochs + 1)\n",
    "\n",
    "plt.figure(figsize=(12, 5))\n",
    "\n",
    "# ---- (1) 损失曲线 ----\n",
    "plt.subplot(1, 2, 1)\n",
    "plt.plot(epochs_range, train_losses, label='Train Loss')\n",
    "plt.plot(epochs_range, test_losses, label='Test Loss')\n",
    "plt.title('Loss over Epochs')\n",
    "plt.xlabel('Epoch')\n",
    "plt.ylabel('Loss')\n",
    "plt.legend()\n",
    "\n",
    "# ---- (2) 准确率曲线 ----\n",
    "plt.subplot(1, 2, 2)\n",
    "plt.plot(epochs_range, train_accuracies, label='Train Acc')\n",
    "plt.plot(epochs_range, test_accuracies, label='Test Acc')\n",
    "plt.title('Accuracy over Epochs')\n",
    "plt.xlabel('Epoch')\n",
    "plt.ylabel('Accuracy')\n",
    "plt.legend()\n",
    "\n",
    "plt.tight_layout()\n",
    "plt.show()"
   ]
  },
  {
   "cell_type": "code",
   "execution_count": null,
   "id": "578f52fe-d21a-456d-87f5-f565d9f12aee",
   "metadata": {},
   "outputs": [],
   "source": []
  },
  {
   "cell_type": "code",
   "execution_count": 38,
   "id": "36be1dda-fa10-4e6a-997f-6945706038e4",
   "metadata": {},
   "outputs": [],
   "source": [
    "class SimpleCNN(nn.Module):\n",
    "    def __init__(self, in_channels=3, num_classes=2):\n",
    "        super().__init__()\n",
    "        self.conv1 = nn.Conv2d(in_channels, 16, kernel_size=3, padding=1)\n",
    "        self.pool = nn.MaxPool2d(2,2)\n",
    "        self.conv2 = nn.Conv2d(16, 32, kernel_size=3, padding=1)\n",
    "        self.fc1 = nn.Linear(32*56*56, 64)\n",
    "        self.fc2 = nn.Linear(64, num_classes)\n",
    "        \n",
    "# 在卷积到全连接的中间插入一个 Dropout, p=0.5表示50%的神经元被drop*****\n",
    "        self.dropout = nn.Dropout(p=0.5)\n",
    "        \n",
    "        self.fc1 = nn.Linear(32*56*56, 64)\n",
    "        self.fc2 = nn.Linear(64, num_classes)\n",
    "        \n",
    "    def forward(self, x):\n",
    "        x = self.pool(torch.relu(self.conv1(x)))  # (B,16,112,112)\n",
    "        x = self.pool(torch.relu(self.conv2(x)))  # (B,32,56,56)\n",
    "        x = x.view(x.size(0), -1)                 # flatten\n",
    "        x = torch.relu(self.fc1(x))\n",
    "        x = self.fc2(x)\n",
    "        return x\n",
    "\n",
    "device = torch.device(\"cuda\" if torch.cuda.is_available() else \"cpu\")\n",
    "model = SimpleCNN(in_channels=3, num_classes=2).to(device)\n",
    "\n",
    "criterion = nn.CrossEntropyLoss()\n",
    "optimizer = optim.Adam(model.parameters(), lr=1e-4)\n",
    "num_epochs = 3"
   ]
  },
  {
   "cell_type": "code",
   "execution_count": 40,
   "id": "1c40f889-c371-4609-b515-b573f23f25c0",
   "metadata": {},
   "outputs": [
    {
     "data": {
      "application/vnd.jupyter.widget-view+json": {
       "model_id": "74439f01623c444ebcac7bdc4129295f",
       "version_major": 2,
       "version_minor": 0
      },
      "text/plain": [
       "Epoch 1/10:   0%|          | 0/243 [00:00<?, ?batch/s]"
      ]
     },
     "metadata": {},
     "output_type": "display_data"
    },
    {
     "name": "stdout",
     "output_type": "stream",
     "text": [
      "\n",
      "Epoch 1/10 - Train Loss: 0.4788, Train Acc: 0.7777\n",
      "               Test Loss: 0.4403, Test Acc: 0.7821\n",
      "\n"
     ]
    },
    {
     "data": {
      "application/vnd.jupyter.widget-view+json": {
       "model_id": "24a068f54fbf4da2ab652d06ce8f2f4a",
       "version_major": 2,
       "version_minor": 0
      },
      "text/plain": [
       "Epoch 2/10:   0%|          | 0/243 [00:00<?, ?batch/s]"
      ]
     },
     "metadata": {},
     "output_type": "display_data"
    },
    {
     "name": "stdout",
     "output_type": "stream",
     "text": [
      "\n",
      "Epoch 2/10 - Train Loss: 0.4448, Train Acc: 0.7829\n",
      "               Test Loss: 0.4368, Test Acc: 0.7950\n",
      "\n"
     ]
    },
    {
     "data": {
      "application/vnd.jupyter.widget-view+json": {
       "model_id": "6cf6aaabe4874622a2aadb7e486b2f6e",
       "version_major": 2,
       "version_minor": 0
      },
      "text/plain": [
       "Epoch 3/10:   0%|          | 0/243 [00:00<?, ?batch/s]"
      ]
     },
     "metadata": {},
     "output_type": "display_data"
    },
    {
     "name": "stdout",
     "output_type": "stream",
     "text": [
      "\n",
      "Epoch 3/10 - Train Loss: 0.4399, Train Acc: 0.7862\n",
      "               Test Loss: 0.4223, Test Acc: 0.7824\n",
      "\n"
     ]
    },
    {
     "data": {
      "application/vnd.jupyter.widget-view+json": {
       "model_id": "1d29cb3680594cce9b5d24cdd33b1272",
       "version_major": 2,
       "version_minor": 0
      },
      "text/plain": [
       "Epoch 4/10:   0%|          | 0/243 [00:00<?, ?batch/s]"
      ]
     },
     "metadata": {},
     "output_type": "display_data"
    },
    {
     "name": "stdout",
     "output_type": "stream",
     "text": [
      "\n",
      "Epoch 4/10 - Train Loss: 0.4278, Train Acc: 0.7883\n",
      "               Test Loss: 0.4246, Test Acc: 0.7852\n",
      "\n"
     ]
    },
    {
     "data": {
      "application/vnd.jupyter.widget-view+json": {
       "model_id": "f4ed8cd75f9f4d7c9f49b02e6c236e7d",
       "version_major": 2,
       "version_minor": 0
      },
      "text/plain": [
       "Epoch 5/10:   0%|          | 0/243 [00:00<?, ?batch/s]"
      ]
     },
     "metadata": {},
     "output_type": "display_data"
    },
    {
     "name": "stdout",
     "output_type": "stream",
     "text": [
      "\n",
      "Epoch 5/10 - Train Loss: 0.4215, Train Acc: 0.7950\n",
      "               Test Loss: 0.4161, Test Acc: 0.8240\n",
      "\n"
     ]
    },
    {
     "data": {
      "application/vnd.jupyter.widget-view+json": {
       "model_id": "bfbd34fe6c5b46d6ad51362fe96b26ed",
       "version_major": 2,
       "version_minor": 0
      },
      "text/plain": [
       "Epoch 6/10:   0%|          | 0/243 [00:00<?, ?batch/s]"
      ]
     },
     "metadata": {},
     "output_type": "display_data"
    },
    {
     "name": "stdout",
     "output_type": "stream",
     "text": [
      "\n",
      "Epoch 6/10 - Train Loss: 0.4147, Train Acc: 0.8058\n",
      "               Test Loss: 0.3999, Test Acc: 0.8004\n",
      "\n"
     ]
    },
    {
     "data": {
      "application/vnd.jupyter.widget-view+json": {
       "model_id": "cc0055b48fd142768dcb95f8758f2a69",
       "version_major": 2,
       "version_minor": 0
      },
      "text/plain": [
       "Epoch 7/10:   0%|          | 0/243 [00:00<?, ?batch/s]"
      ]
     },
     "metadata": {},
     "output_type": "display_data"
    },
    {
     "name": "stdout",
     "output_type": "stream",
     "text": [
      "\n",
      "Epoch 7/10 - Train Loss: 0.4082, Train Acc: 0.8065\n",
      "               Test Loss: 0.4022, Test Acc: 0.8209\n",
      "\n"
     ]
    },
    {
     "data": {
      "application/vnd.jupyter.widget-view+json": {
       "model_id": "b568636029a04ba3bbb6ca4384467ae5",
       "version_major": 2,
       "version_minor": 0
      },
      "text/plain": [
       "Epoch 8/10:   0%|          | 0/243 [00:00<?, ?batch/s]"
      ]
     },
     "metadata": {},
     "output_type": "display_data"
    },
    {
     "name": "stdout",
     "output_type": "stream",
     "text": [
      "\n",
      "Epoch 8/10 - Train Loss: 0.4079, Train Acc: 0.8153\n",
      "               Test Loss: 0.3964, Test Acc: 0.8215\n",
      "\n"
     ]
    },
    {
     "data": {
      "application/vnd.jupyter.widget-view+json": {
       "model_id": "8ab23debb7294ebaa6eb599f3b171a3c",
       "version_major": 2,
       "version_minor": 0
      },
      "text/plain": [
       "Epoch 9/10:   0%|          | 0/243 [00:00<?, ?batch/s]"
      ]
     },
     "metadata": {},
     "output_type": "display_data"
    },
    {
     "name": "stdout",
     "output_type": "stream",
     "text": [
      "\n",
      "Epoch 9/10 - Train Loss: 0.4087, Train Acc: 0.8114\n",
      "               Test Loss: 0.4042, Test Acc: 0.8269\n",
      "\n"
     ]
    },
    {
     "data": {
      "application/vnd.jupyter.widget-view+json": {
       "model_id": "d182d3f312bb44b5b5255711fb703f88",
       "version_major": 2,
       "version_minor": 0
      },
      "text/plain": [
       "Epoch 10/10:   0%|          | 0/243 [00:00<?, ?batch/s]"
      ]
     },
     "metadata": {},
     "output_type": "display_data"
    },
    {
     "name": "stdout",
     "output_type": "stream",
     "text": [
      "\n",
      "Epoch 10/10 - Train Loss: 0.4030, Train Acc: 0.8184\n",
      "               Test Loss: 0.3923, Test Acc: 0.8099\n",
      "\n"
     ]
    },
    {
     "data": {
      "image/png": "[encoded data removed]",
      "text/plain": [
       "<Figure size 1200x500 with 2 Axes>"
      ]
     },
     "metadata": {},
     "output_type": "display_data"
    }
   ],
   "source": [
    "num_epochs = 10  # 你要训练多少轮\n",
    "\n",
    "# 记录每个 epoch 的指标，用于画图\n",
    "train_losses = []\n",
    "train_accuracies = []\n",
    "test_losses = []\n",
    "test_accuracies = []\n",
    "\n",
    "for epoch in range(num_epochs):\n",
    "    # ========== 训练阶段 ==========\n",
    "    model.train()\n",
    "    running_loss = 0.0\n",
    "    correct, total = 0, 0\n",
    "\n",
    "    pbar = tqdm(train_loader, desc=f\"Epoch {epoch+1}/{num_epochs}\", unit=\"batch\")\n",
    "    \n",
    "    for batch_idx, (imgs, labels) in enumerate(pbar):\n",
    "        imgs, labels = imgs.to(device), labels.to(device)\n",
    "\n",
    "        optimizer.zero_grad()\n",
    "        outputs = model(imgs)\n",
    "        loss = criterion(outputs, labels)\n",
    "        loss.backward()\n",
    "        optimizer.step()\n",
    "\n",
    "        running_loss += loss.item() * imgs.size(0)\n",
    "\n",
    "        _, predicted = torch.max(outputs, 1)\n",
    "        correct += (predicted == labels).sum().item()\n",
    "        total += labels.size(0)\n",
    "\n",
    "        current_loss = loss.item()\n",
    "        current_acc = correct / total\n",
    "        # 在进度条上显示当前batch的Loss和Acc\n",
    "        pbar.set_postfix({\"loss\": f\"{current_loss:.4f}\", \"acc\": f\"{current_acc:.4f}\"})\n",
    "    \n",
    "    # 计算该 epoch 的平均训练损失与准确率\n",
    "    epoch_loss = running_loss / total\n",
    "    epoch_acc = correct / total\n",
    "    train_losses.append(epoch_loss)\n",
    "    train_accuracies.append(epoch_acc)\n",
    "\n",
    "    # 打印本 epoch 训练结果\n",
    "    print(f\"\\nEpoch {epoch+1}/{num_epochs} - Train Loss: {epoch_loss:.4f}, Train Acc: {epoch_acc:.4f}\")\n",
    "\n",
    "    # ========== 测试阶段 ==========\n",
    "    model.eval()\n",
    "    test_running_loss = 0.0\n",
    "    correct_test, total_test = 0, 0\n",
    "\n",
    "    with torch.no_grad():\n",
    "        for imgs_test, labels_test in test_loader:\n",
    "            imgs_test = imgs_test.to(device)\n",
    "            labels_test = labels_test.to(device)\n",
    "            outputs_test = model(imgs_test)\n",
    "            loss_test = criterion(outputs_test, labels_test)\n",
    "\n",
    "            test_running_loss += loss_test.item() * imgs_test.size(0)\n",
    "\n",
    "            _, predicted_test = torch.max(outputs_test, 1)\n",
    "            correct_test += (predicted_test == labels_test).sum().item()\n",
    "            total_test += labels_test.size(0)\n",
    "\n",
    "    # 计算测试集平均损失、准确率\n",
    "    test_epoch_loss = test_running_loss / total_test if total_test > 0 else 0\n",
    "    test_epoch_acc = correct_test / total_test if total_test > 0 else 0\n",
    "    test_losses.append(test_epoch_loss)\n",
    "    test_accuracies.append(test_epoch_acc)\n",
    "\n",
    "    # 打印本 epoch 测试结果\n",
    "    print(f\"               Test Loss: {test_epoch_loss:.4f}, Test Acc: {test_epoch_acc:.4f}\\n\")\n",
    "\n",
    "\n",
    "# ========== 3. 训练完成后画图 ==========\n",
    "epochs_range = range(1, num_epochs + 1)\n",
    "\n",
    "plt.figure(figsize=(12, 5))\n",
    "\n",
    "# ---- (1) 损失曲线 ----\n",
    "plt.subplot(1, 2, 1)\n",
    "plt.plot(epochs_range, train_losses, label='Train Loss')\n",
    "plt.plot(epochs_range, test_losses, label='Test Loss')\n",
    "plt.title('Loss over Epochs')\n",
    "plt.xlabel('Epoch')\n",
    "plt.ylabel('Loss')\n",
    "plt.legend()\n",
    "\n",
    "# ---- (2) 准确率曲线 ----\n",
    "plt.subplot(1, 2, 2)\n",
    "plt.plot(epochs_range, train_accuracies, label='Train Acc')\n",
    "plt.plot(epochs_range, test_accuracies, label='Test Acc')\n",
    "plt.title('Accuracy over Epochs')\n",
    "plt.xlabel('Epoch')\n",
    "plt.ylabel('Accuracy')\n",
    "plt.legend()\n",
    "\n",
    "plt.tight_layout()\n",
    "plt.show()"
   ]
  },
  {
   "cell_type": "code",
   "execution_count": null,
   "id": "d5d25abe-eae8-4f57-a113-f6081b0eb3e6",
   "metadata": {},
   "outputs": [],
   "source": []
  },
  {
   "cell_type": "code",
   "execution_count": null,
   "id": "c093f735-319e-4a29-ad4b-fa38d1ef325c",
   "metadata": {},
   "outputs": [],
   "source": []
  },
  {
   "cell_type": "code",
   "execution_count": null,
   "id": "490b5d50-fd93-4496-b135-7e92b1b774f9",
   "metadata": {},
   "outputs": [],
   "source": []
  }
 ],
 "metadata": {
  "kernelspec": {
   "display_name": "Python 3 (ipykernel)",
   "language": "python",
   "name": "python3"
  },
  "language_info": {
   "codemirror_mode": {
    "name": "ipython",
    "version": 3
   },
   "file_extension": ".py",
   "mimetype": "text/x-python",
   "name": "python",
   "nbconvert_exporter": "python",
   "pygments_lexer": "ipython3",
   "version": "3.11.8"
  }
 },
 "nbformat": 4,
 "nbformat_minor": 5
}
