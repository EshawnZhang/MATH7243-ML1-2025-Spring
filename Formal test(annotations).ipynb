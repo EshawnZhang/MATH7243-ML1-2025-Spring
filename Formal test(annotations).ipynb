{
 "cells": [
  {
   "cell_type": "code",
   "execution_count": 1,
   "id": "cc8d2f7e-53b1-4e68-b9a5-c03a1a79de5c",
   "metadata": {},
   "outputs": [
    {
     "name": "stdout",
     "output_type": "stream",
     "text": [
      "Using device: cpu\n"
     ]
    }
   ],
   "source": [
    "import os\n",
    "import glob\n",
    "import random\n",
    "import numpy as np\n",
    "import matplotlib.pyplot as plt\n",
    "from PIL import Image\n",
    "\n",
    "import torch\n",
    "import torch.nn as nn\n",
    "import torch.optim as optim\n",
    "from torch.utils.data import Dataset, DataLoader, random_split, Subset\n",
    "import torchvision.transforms as T\n",
    "\n",
    "# 设置设备\n",
    "device = torch.device(\"cuda\" if torch.cuda.is_available() else \"cpu\")\n",
    "print(\"Using device:\", device)\n",
    "\n",
    "# 设置随机种子\n",
    "seed = 42\n",
    "random.seed(seed)\n",
    "np.random.seed(seed)\n",
    "torch.manual_seed(seed)\n",
    "if torch.cuda.is_available():\n",
    "    torch.cuda.manual_seed_all(seed)"
   ]
  },
  {
   "cell_type": "code",
   "execution_count": 2,
   "id": "7c75377b-f2f2-4fb8-bb98-03ece138e4dc",
   "metadata": {},
   "outputs": [],
   "source": [
    "# In[2]\n",
    "class BrainHemorrhageDataset(Dataset):\n",
    "    def __init__(self, root_dir, transform=None):\n",
    "        \"\"\"\n",
    "        root_dir:  C:/Users/zhang/Desktop/Final Project/renders\n",
    "        transform: \n",
    "        \"\"\"\n",
    "        self.root_dir = root_dir\n",
    "        self.transform = transform\n",
    "        \n",
    "        # 六个类别文件夹\n",
    "        self.classes = [\n",
    "            'subdural',\n",
    "            'subarachnoid',\n",
    "            'intraventricular',\n",
    "            'intraparenchymal',\n",
    "            'epidural',\n",
    "            'normal'\n",
    "        ]\n",
    "        \n",
    "        # 存储 (四通道图像路径列表, label)\n",
    "        self.samples = []\n",
    "        \n",
    "        # 遍历每个类别\n",
    "        for class_idx, class_name in enumerate(self.classes):\n",
    "            class_path = os.path.join(self.root_dir, class_name)\n",
    "            \n",
    "            # 四种窗口\n",
    "            window_types = [\n",
    "                'brain_bone_window',\n",
    "                'brain_window',\n",
    "                'max_contrast_window',\n",
    "                'subdural_window'\n",
    "            ]\n",
    "            \n",
    "            # 以第一个窗口子文件夹为参考，收集所有文件名\n",
    "            reference_window = window_types[0]\n",
    "            reference_path = os.path.join(class_path, reference_window)\n",
    "            \n",
    "            # 获取该窗口下的所有图像文件 \n",
    "            all_files = glob.glob(os.path.join(reference_path, '*.*'))\n",
    "            \n",
    "            for ref_file in all_files:\n",
    "                filename = os.path.basename(ref_file)\n",
    "                \n",
    "                # 拼出四个窗口完整路径\n",
    "                channel_paths = []\n",
    "                for w in window_types:\n",
    "                    w_full_path = os.path.join(class_path, w, filename)\n",
    "                    if not os.path.exists(w_full_path):\n",
    "                        break  # 若有缺失，跳过\n",
    "                    channel_paths.append(w_full_path)\n",
    "                \n",
    "                # 如果四个窗口都存在，加入样本列表\n",
    "                if len(channel_paths) == 4:\n",
    "                    self.samples.append((channel_paths, class_idx))\n",
    "        \n",
    "    def __len__(self):\n",
    "        return len(self.samples)\n",
    "    \n",
    "    def __getitem__(self, idx):\n",
    "        channel_paths, label = self.samples[idx]\n",
    "        \n",
    "        # 读取四个通道\n",
    "        channels = []\n",
    "        for path in channel_paths:\n",
    "            img = Image.open(path).convert('L')  # 转灰度\n",
    "            channels.append(img)\n",
    "        \n",
    "        # 对每个通道进行 transform\n",
    "        if self.transform is not None:\n",
    "            channels_t = [self.transform(ch) for ch in channels]\n",
    "        else:\n",
    "            channels_t = [T.ToTensor()(ch) for ch in channels]\n",
    "        \n",
    "        # 每个通道形状 [1, H, W], 合并后 [4, H, W]\n",
    "        img_4ch = torch.cat(channels_t, dim=0)\n",
    "        \n",
    "        label = torch.tensor(label, dtype=torch.long)\n",
    "        return img_4ch, label"
   ]
  },
  {
   "cell_type": "code",
   "execution_count": 3,
   "id": "d910d3e9-1ccf-4744-9fa1-2918599d179a",
   "metadata": {},
   "outputs": [
    {
     "name": "stdout",
     "output_type": "stream",
     "text": [
      "全部样本数量 = 81939\n",
      "抽取 10% 后的样本数量 = 8193\n",
      "Train dataset size: 6554\n",
      "Test dataset size: 1639\n"
     ]
    }
   ],
   "source": [
    "# In[3]\n",
    "# 数据预处理\n",
    "transform = T.Compose([\n",
    "    T.Resize((224, 224)),  # 统一到 224x224\n",
    "    T.ToTensor()\n",
    "])\n",
    "\n",
    "root_dir = r\"C:\\Users\\zhang\\Desktop\\Final Project\\renders\"\n",
    "full_dataset = BrainHemorrhageDataset(root_dir, transform=transform)\n",
    "full_size = len(full_dataset)\n",
    "\n",
    "print(\"全部样本数量 =\", full_size)\n",
    "\n",
    "# 只取 10%\n",
    "sample_size = int(0.1 * full_size)\n",
    "indices = list(range(full_size))\n",
    "random.shuffle(indices)\n",
    "subset_indices = indices[:sample_size]\n",
    "\n",
    "# 创建一个新的小数据集\n",
    "subset_dataset = Subset(full_dataset, subset_indices)\n",
    "print(\"抽取 10% 后的样本数量 =\", len(subset_dataset))\n",
    "\n",
    "# 再在这个 10% 中做 8:2 的训练/测试拆分\n",
    "train_ratio = 0.8\n",
    "train_size = int(len(subset_dataset) * train_ratio)\n",
    "test_size = len(subset_dataset) - train_size\n",
    "\n",
    "train_dataset, test_dataset = random_split(subset_dataset, [train_size, test_size])\n",
    "\n",
    "print(\"Train dataset size:\", len(train_dataset))\n",
    "print(\"Test dataset size:\", len(test_dataset))\n",
    "\n",
    "# 创建 DataLoader\n",
    "batch_size = 8\n",
    "train_loader = DataLoader(train_dataset, batch_size=batch_size, shuffle=True)\n",
    "test_loader = DataLoader(test_dataset, batch_size=batch_size, shuffle=False)"
   ]
  },
  {
   "cell_type": "code",
   "execution_count": 6,
   "id": "14024b1a-4488-453a-85a9-5a59a49ed1c7",
   "metadata": {},
   "outputs": [
    {
     "name": "stdout",
     "output_type": "stream",
     "text": [
      "ComplexCNN(\n",
      "  (block1): Sequential(\n",
      "    (0): Conv2d(4, 32, kernel_size=(3, 3), stride=(1, 1), padding=(1, 1))\n",
      "    (1): BatchNorm2d(32, eps=1e-05, momentum=0.1, affine=True, track_running_stats=True)\n",
      "    (2): ReLU(inplace=True)\n",
      "    (3): MaxPool2d(kernel_size=2, stride=2, padding=0, dilation=1, ceil_mode=False)\n",
      "    (4): Dropout(p=0.25, inplace=False)\n",
      "  )\n",
      "  (block2): Sequential(\n",
      "    (0): Conv2d(32, 64, kernel_size=(3, 3), stride=(1, 1), padding=(1, 1))\n",
      "    (1): BatchNorm2d(64, eps=1e-05, momentum=0.1, affine=True, track_running_stats=True)\n",
      "    (2): ReLU(inplace=True)\n",
      "    (3): MaxPool2d(kernel_size=2, stride=2, padding=0, dilation=1, ceil_mode=False)\n",
      "    (4): Dropout(p=0.25, inplace=False)\n",
      "  )\n",
      "  (block3): Sequential(\n",
      "    (0): Conv2d(64, 128, kernel_size=(3, 3), stride=(1, 1), padding=(1, 1))\n",
      "    (1): BatchNorm2d(128, eps=1e-05, momentum=0.1, affine=True, track_running_stats=True)\n",
      "    (2): ReLU(inplace=True)\n",
      "    (3): MaxPool2d(kernel_size=2, stride=2, padding=0, dilation=1, ceil_mode=False)\n",
      "    (4): Dropout(p=0.25, inplace=False)\n",
      "  )\n",
      "  (block4): Sequential(\n",
      "    (0): Conv2d(128, 256, kernel_size=(3, 3), stride=(1, 1), padding=(1, 1))\n",
      "    (1): BatchNorm2d(256, eps=1e-05, momentum=0.1, affine=True, track_running_stats=True)\n",
      "    (2): ReLU(inplace=True)\n",
      "    (3): MaxPool2d(kernel_size=2, stride=2, padding=0, dilation=1, ceil_mode=False)\n",
      "    (4): Dropout(p=0.25, inplace=False)\n",
      "  )\n",
      "  (classifier): Sequential(\n",
      "    (0): Linear(in_features=50176, out_features=512, bias=True)\n",
      "    (1): ReLU(inplace=True)\n",
      "    (2): Dropout(p=0.5, inplace=False)\n",
      "    (3): Linear(in_features=512, out_features=128, bias=True)\n",
      "    (4): ReLU(inplace=True)\n",
      "    (5): Dropout(p=0.5, inplace=False)\n",
      "    (6): Linear(in_features=128, out_features=6, bias=True)\n",
      "  )\n",
      ")\n"
     ]
    }
   ],
   "source": [
    "class ComplexCNN(nn.Module):\n",
    "    \"\"\"\n",
    "    相比 SimpleCNN, 增加卷积块层数 & 使用BatchNorm, 并在全连接层做更深的结构.\n",
    "    适合在数据量更大时使用. 输入形状 [B, 4, 224, 224], 输出6类.\n",
    "    \"\"\"\n",
    "    def __init__(self, num_classes=6):\n",
    "        super(ComplexCNN, self).__init__()\n",
    "        \n",
    "        # 第1块: Conv -> BN -> ReLU -> MaxPool -> Dropout\n",
    "        self.block1 = nn.Sequential(\n",
    "            nn.Conv2d(4, 32, kernel_size=3, padding=1),\n",
    "            nn.BatchNorm2d(32),\n",
    "            nn.ReLU(inplace=True),\n",
    "            nn.MaxPool2d(kernel_size=2),  # 224 -> 112\n",
    "            nn.Dropout(p=0.25)\n",
    "        )\n",
    "        \n",
    "        # 第2块: Conv -> BN -> ReLU -> MaxPool -> Dropout\n",
    "        self.block2 = nn.Sequential(\n",
    "            nn.Conv2d(32, 64, kernel_size=3, padding=1),\n",
    "            nn.BatchNorm2d(64),\n",
    "            nn.ReLU(inplace=True),\n",
    "            nn.MaxPool2d(kernel_size=2),  # 112 -> 56\n",
    "            nn.Dropout(p=0.25)\n",
    "        )\n",
    "        \n",
    "        # 第3块: Conv -> BN -> ReLU -> MaxPool -> Dropout\n",
    "        self.block3 = nn.Sequential(\n",
    "            nn.Conv2d(64, 128, kernel_size=3, padding=1),\n",
    "            nn.BatchNorm2d(128),\n",
    "            nn.ReLU(inplace=True),\n",
    "            nn.MaxPool2d(kernel_size=2),  # 56 -> 28\n",
    "            nn.Dropout(p=0.25)\n",
    "        )\n",
    "        \n",
    "        # 第4块: Conv -> BN -> ReLU -> MaxPool -> Dropout\n",
    "        self.block4 = nn.Sequential(\n",
    "            nn.Conv2d(128, 256, kernel_size=3, padding=1),\n",
    "            nn.BatchNorm2d(256),\n",
    "            nn.ReLU(inplace=True),\n",
    "            nn.MaxPool2d(kernel_size=2),  # 28 -> 14\n",
    "            nn.Dropout(p=0.25)\n",
    "        )\n",
    "        \n",
    "        # 经过4次池化, 尺寸从224 -> 14 (224 -> 112 -> 56 -> 28 -> 14)\n",
    "        # 通道数=256 => Flatten后 [256 * 14 * 14]\n",
    "        # 256 * 14 * 14 = 50176\n",
    "        \n",
    "        # 构建分类器部分: 两层全连接 + Dropout\n",
    "        self.classifier = nn.Sequential(\n",
    "            nn.Linear(256 * 14 * 14, 512),\n",
    "            nn.ReLU(inplace=True),\n",
    "            nn.Dropout(p=0.5),\n",
    "            \n",
    "            nn.Linear(512, 128),\n",
    "            nn.ReLU(inplace=True),\n",
    "            nn.Dropout(p=0.5),\n",
    "            \n",
    "            nn.Linear(128, num_classes)  # 最终输出6类\n",
    "        )\n",
    "\n",
    "    def forward(self, x):\n",
    "        # 依次通过4个卷积块\n",
    "        x = self.block1(x)\n",
    "        x = self.block2(x)\n",
    "        x = self.block3(x)\n",
    "        x = self.block4(x)\n",
    "        \n",
    "        # Flatten\n",
    "        x = x.view(x.size(0), -1)\n",
    "        \n",
    "        # 全连接层\n",
    "        x = self.classifier(x)\n",
    "        return x\n",
    "model = ComplexCNN(num_classes=6).to(device)\n",
    "print(model)"
   ]
  },
  {
   "cell_type": "code",
   "execution_count": 7,
   "id": "1f0cad95-c3fe-4589-a423-348c6f16612d",
   "metadata": {},
   "outputs": [
    {
     "data": {
      "application/vnd.jupyter.widget-view+json": {
       "model_id": "23a7b5ca8c9f42c89555180c5159e443",
       "version_major": 2,
       "version_minor": 0
      },
      "text/plain": [
       "Epoch 1/10:   0%|          | 0/820 [00:00<?, ?it/s]"
      ]
     },
     "metadata": {},
     "output_type": "display_data"
    },
    {
     "name": "stdout",
     "output_type": "stream",
     "text": [
      "Epoch [1/10] Train Loss: 1.6565, Train Acc: 0.3337 | Test Loss: 1.5572, Test Acc: 0.3868\n"
     ]
    },
    {
     "data": {
      "application/vnd.jupyter.widget-view+json": {
       "model_id": "043ff7f794d14d98b3582cfa0e0cd0a3",
       "version_major": 2,
       "version_minor": 0
      },
      "text/plain": [
       "Epoch 2/10:   0%|          | 0/820 [00:00<?, ?it/s]"
      ]
     },
     "metadata": {},
     "output_type": "display_data"
    },
    {
     "name": "stdout",
     "output_type": "stream",
     "text": [
      "Epoch [2/10] Train Loss: 1.5517, Train Acc: 0.3787 | Test Loss: 1.5452, Test Acc: 0.3874\n"
     ]
    },
    {
     "data": {
      "application/vnd.jupyter.widget-view+json": {
       "model_id": "a3e16fe109d749c5bc37d2bfb7328d38",
       "version_major": 2,
       "version_minor": 0
      },
      "text/plain": [
       "Epoch 3/10:   0%|          | 0/820 [00:00<?, ?it/s]"
      ]
     },
     "metadata": {},
     "output_type": "display_data"
    },
    {
     "name": "stdout",
     "output_type": "stream",
     "text": [
      "Epoch [3/10] Train Loss: 1.5460, Train Acc: 0.3906 | Test Loss: 1.5457, Test Acc: 0.4009\n"
     ]
    },
    {
     "data": {
      "application/vnd.jupyter.widget-view+json": {
       "model_id": "cc7869b774164c639db187bac05c13cb",
       "version_major": 2,
       "version_minor": 0
      },
      "text/plain": [
       "Epoch 4/10:   0%|          | 0/820 [00:00<?, ?it/s]"
      ]
     },
     "metadata": {},
     "output_type": "display_data"
    },
    {
     "name": "stdout",
     "output_type": "stream",
     "text": [
      "Epoch [4/10] Train Loss: 1.5267, Train Acc: 0.3914 | Test Loss: 1.5325, Test Acc: 0.3996\n"
     ]
    },
    {
     "data": {
      "application/vnd.jupyter.widget-view+json": {
       "model_id": "33c228afded6404392aa0799fe356ce2",
       "version_major": 2,
       "version_minor": 0
      },
      "text/plain": [
       "Epoch 5/10:   0%|          | 0/820 [00:00<?, ?it/s]"
      ]
     },
     "metadata": {},
     "output_type": "display_data"
    },
    {
     "name": "stdout",
     "output_type": "stream",
     "text": [
      "Epoch [5/10] Train Loss: 1.5101, Train Acc: 0.3985 | Test Loss: 1.5138, Test Acc: 0.4002\n"
     ]
    },
    {
     "data": {
      "application/vnd.jupyter.widget-view+json": {
       "model_id": "72e036d1ce6342de8ef49b5cd56a9d80",
       "version_major": 2,
       "version_minor": 0
      },
      "text/plain": [
       "Epoch 6/10:   0%|          | 0/820 [00:00<?, ?it/s]"
      ]
     },
     "metadata": {},
     "output_type": "display_data"
    },
    {
     "name": "stdout",
     "output_type": "stream",
     "text": [
      "Epoch [6/10] Train Loss: 1.5013, Train Acc: 0.3995 | Test Loss: 1.5045, Test Acc: 0.4051\n"
     ]
    },
    {
     "data": {
      "application/vnd.jupyter.widget-view+json": {
       "model_id": "105bf1c29cd446e9b570e23dd1b63380",
       "version_major": 2,
       "version_minor": 0
      },
      "text/plain": [
       "Epoch 7/10:   0%|          | 0/820 [00:00<?, ?it/s]"
      ]
     },
     "metadata": {},
     "output_type": "display_data"
    },
    {
     "name": "stdout",
     "output_type": "stream",
     "text": [
      "Epoch [7/10] Train Loss: 1.4976, Train Acc: 0.4042 | Test Loss: 1.4784, Test Acc: 0.4027\n"
     ]
    },
    {
     "data": {
      "application/vnd.jupyter.widget-view+json": {
       "model_id": "8967a99baff8457e86b3075037ed34fd",
       "version_major": 2,
       "version_minor": 0
      },
      "text/plain": [
       "Epoch 8/10:   0%|          | 0/820 [00:00<?, ?it/s]"
      ]
     },
     "metadata": {},
     "output_type": "display_data"
    },
    {
     "name": "stdout",
     "output_type": "stream",
     "text": [
      "Epoch [8/10] Train Loss: 1.4883, Train Acc: 0.4025 | Test Loss: 1.4751, Test Acc: 0.4088\n"
     ]
    },
    {
     "data": {
      "application/vnd.jupyter.widget-view+json": {
       "model_id": "ea8e3ccd031a41f190f8168fb9b1ea3e",
       "version_major": 2,
       "version_minor": 0
      },
      "text/plain": [
       "Epoch 9/10:   0%|          | 0/820 [00:00<?, ?it/s]"
      ]
     },
     "metadata": {},
     "output_type": "display_data"
    },
    {
     "name": "stdout",
     "output_type": "stream",
     "text": [
      "Epoch [9/10] Train Loss: 1.4861, Train Acc: 0.4002 | Test Loss: 1.4642, Test Acc: 0.4063\n"
     ]
    },
    {
     "data": {
      "application/vnd.jupyter.widget-view+json": {
       "model_id": "6c2df30093854f01b5dc071abf6e1352",
       "version_major": 2,
       "version_minor": 0
      },
      "text/plain": [
       "Epoch 10/10:   0%|          | 0/820 [00:00<?, ?it/s]"
      ]
     },
     "metadata": {},
     "output_type": "display_data"
    },
    {
     "name": "stdout",
     "output_type": "stream",
     "text": [
      "Epoch [10/10] Train Loss: 1.4765, Train Acc: 0.4045 | Test Loss: 1.4583, Test Acc: 0.4106\n"
     ]
    }
   ],
   "source": [
    "from tqdm.notebook import tqdm\n",
    "\n",
    "criterion = nn.CrossEntropyLoss()\n",
    "optimizer = optim.Adam(model.parameters(), lr=1e-4)\n",
    "\n",
    "num_epochs = 10  \n",
    "train_losses, train_accuracies = [], []\n",
    "test_losses, test_accuracies = [], []\n",
    "\n",
    "for epoch in range(num_epochs):\n",
    "#训练\n",
    "    model.train()\n",
    "    running_loss = 0.0\n",
    "    correct = 0\n",
    "    total = 0\n",
    "    \n",
    "    # 使用 tqdm 对 train_loader 做迭代包装，在每次 epoch 时显示实时进度\n",
    "    # desc 参数可显示当前 epoch 信息\n",
    "    # leave=True改为 True 让进度条一直显示\n",
    "    pbar = tqdm(train_loader, desc=f\"Epoch {epoch+1}/{num_epochs}\", leave=True)\n",
    "    for images, labels in pbar:\n",
    "        images, labels = images.to(device), labels.to(device)\n",
    "        \n",
    "        optimizer.zero_grad()\n",
    "        outputs = model(images)\n",
    "        loss = criterion(outputs, labels)\n",
    "        loss.backward()\n",
    "        optimizer.step()\n",
    "        \n",
    "        running_loss += loss.item() * images.size(0)\n",
    "        _, predicted = torch.max(outputs, 1)\n",
    "        total += labels.size(0)\n",
    "        correct += (predicted == labels).sum().item()\n",
    "        \n",
    "        # 可在进度条上动态显示当前batch的loss\n",
    "        pbar.set_postfix({\"batch_loss\": f\"{loss.item():.4f}\"})\n",
    "    \n",
    "    # 计算并记录当前epoch的平均损失和准确率\n",
    "    epoch_loss = running_loss / total\n",
    "    epoch_acc = correct / total\n",
    "    train_losses.append(epoch_loss)\n",
    "    train_accuracies.append(epoch_acc)\n",
    "    \n",
    "    # ====== 测试 ======\n",
    "    model.eval()\n",
    "    running_loss_test = 0.0\n",
    "    correct_test = 0\n",
    "    total_test = 0\n",
    "    \n",
    "    with torch.no_grad():\n",
    "        for images, labels in test_loader:\n",
    "            images, labels = images.to(device), labels.to(device)\n",
    "            outputs = model(images)\n",
    "            loss = criterion(outputs, labels)\n",
    "            \n",
    "            running_loss_test += loss.item() * images.size(0)\n",
    "            _, predicted = torch.max(outputs, 1)\n",
    "            total_test += labels.size(0)\n",
    "            correct_test += (predicted == labels).sum().item()\n",
    "    \n",
    "    epoch_loss_test = running_loss_test / total_test\n",
    "    epoch_acc_test = correct_test / total_test\n",
    "    test_losses.append(epoch_loss_test)\n",
    "    test_accuracies.append(epoch_acc_test)\n",
    "    \n",
    "    # 这里在每个 epoch 结束后打印一次结果\n",
    "    print(f\"Epoch [{epoch+1}/{num_epochs}] \"\n",
    "          f\"Train Loss: {epoch_loss:.4f}, Train Acc: {epoch_acc:.4f} | \"\n",
    "          f\"Test Loss: {epoch_loss_test:.4f}, Test Acc: {epoch_acc_test:.4f}\")\n"
   ]
  },
  {
   "cell_type": "code",
   "execution_count": 8,
   "id": "bb859f87-8c7e-4d71-9ba7-05e39505d600",
   "metadata": {},
   "outputs": [
    {
     "data": {
      "image/png": "[encoded data removed]",
      "text/plain": [
       "<Figure size 640x480 with 1 Axes>"
      ]
     },
     "metadata": {},
     "output_type": "display_data"
    },
    {
     "data": {
      "image/png": "[encoded data removed]",
      "text/plain": [
       "<Figure size 640x480 with 1 Axes>"
      ]
     },
     "metadata": {},
     "output_type": "display_data"
    }
   ],
   "source": [
    "#绘制损失与准确率曲线\n",
    "epochs_range = range(1, num_epochs + 1)\n",
    "\n",
    "plt.figure()\n",
    "plt.plot(epochs_range, train_losses, label='Train Loss')\n",
    "plt.plot(epochs_range, test_losses, label='Test Loss')\n",
    "plt.title('Loss Curve')\n",
    "plt.xlabel('Epoch')\n",
    "plt.ylabel('Loss')\n",
    "plt.legend()\n",
    "plt.show()\n",
    "\n",
    "plt.figure()\n",
    "plt.plot(epochs_range, train_accuracies, label='Train Accuracy')\n",
    "plt.plot(epochs_range, test_accuracies, label='Test Accuracy')\n",
    "plt.title('Accuracy Curve')\n",
    "plt.xlabel('Epoch')\n",
    "plt.ylabel('Accuracy')\n",
    "plt.legend()\n",
    "plt.show()"
   ]
  },
  {
   "cell_type": "code",
   "execution_count": null,
   "id": "5e8ce9ea-1428-4478-861c-cb325dd69bf1",
   "metadata": {},
   "outputs": [],
   "source": []
  },
  {
   "cell_type": "code",
   "execution_count": null,
   "id": "13bb1b21-59c4-4fe4-81c2-2072a6d22796",
   "metadata": {},
   "outputs": [],
   "source": []
  },
  {
   "cell_type": "code",
   "execution_count": null,
   "id": "80af9fd7-f2c4-44fe-a276-acaeb9a02724",
   "metadata": {},
   "outputs": [],
   "source": []
  }
 ],
 "metadata": {
  "kernelspec": {
   "display_name": "Python 3 (ipykernel)",
   "language": "python",
   "name": "python3"
  },
  "language_info": {
   "codemirror_mode": {
    "name": "ipython",
    "version": 3
   },
   "file_extension": ".py",
   "mimetype": "text/x-python",
   "name": "python",
   "nbconvert_exporter": "python",
   "pygments_lexer": "ipython3",
   "version": "3.11.8"
  }
 },
 "nbformat": 4,
 "nbformat_minor": 5
}
